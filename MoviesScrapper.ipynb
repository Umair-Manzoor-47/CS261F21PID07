{
 "cells": [
  {
   "cell_type": "code",
   "execution_count": null,
   "metadata": {},
   "outputs": [],
   "source": [
    "#importing the libraries needed \n",
    "import pandas as pd\n",
    "import numpy as np\n",
    "import requests\n",
    "from bs4 import BeautifulSoup\n",
    "from time import sleep\n",
    "from random import randint\n",
    "\n",
    "\n"
   ]
  },
  {
   "cell_type": "code",
   "execution_count": null,
   "metadata": {},
   "outputs": [],
   "source": [
    "#Declaring the headers \n",
    "headers = {\"Accept-Language\": \"en-US,en;q=0.5\"}\n",
    "\n",
    "#declaring the list of empty variables, So that we can append the data overall\n",
    "\n",
    "movie_name = []\n",
    "year = []\n",
    "time=[]\n",
    "genre = []\n",
    "director = []\n",
    "rating=[]\n",
    "cast = []\n",
    "synopsis = []\n",
    "metascore =[]\n",
    "votes = []\n",
    "\n",
    "#creating an array of values and passing it in the url for dynamic webpages\n",
    "pages = np.arange(1,1000000,50)"
   ]
  },
  {
   "cell_type": "code",
   "execution_count": null,
   "metadata": {},
   "outputs": [],
   "source": [
    "\n",
    "#the whole core of the script\n",
    "for page in pages:\n",
    "    page = requests.get(\"https://www.imdb.com/search/title/?release_date=1960-01-01,2021-10-31&start=\"+str(page)+\"&ref_=adv_nxt\")\n",
    "    soup = BeautifulSoup(page.text, 'html.parser')\n",
    "    movie_data = soup.findAll('div', attrs = {'class': 'lister-item mode-advanced'})\n",
    "    #sleep(randint(2,4))\n",
    "    for store in movie_data:\n",
    "        name = store.h3.a.text\n",
    "        movie_name.append(name)\n",
    "        \n",
    "        year_of_release = store.h3.find('span', class_ = \"lister-item-year text-muted unbold\").text.replace(\"(\", \"\").replace(\")\", \"\")\n",
    "        year.append(year_of_release)\n",
    "        \n",
    "        runtime = store.p.find(\"span\", class_ = 'runtime').text if store.p.find(\"span\", class_ = 'runtime') else \"Not given\"\n",
    "        time.append(runtime)\n",
    "        \n",
    "        rate = store.find('div', class_ = \"inline-block ratings-imdb-rating\").text.replace('\\n', '') if store.find('div', class_ = \"inline-block ratings-imdb-rating\") else \"Not rated\"\n",
    "        rating.append(rate)\n",
    "        \n",
    "        \n",
    "        value = store.find_all('span', attrs = {'name': \"nv\"})\n",
    "        vote = value[0].text if len(value) > 0 else 'Not voted'\n",
    "        votes.append(vote)\n",
    "        \n",
    "        gen = store.p.find(\"span\", class_ = 'genre').text.replace(\"            \", \"\").replace(\"\\n\", \"\") if store.p.find('span', class_ = \"genre\") else \"Not given\"\n",
    "        genre.append(gen)\n",
    "\n",
    "        \n",
    "        # synopsis\n",
    "        syno = store.find_all('p', class_ = 'text-muted')\n",
    "        syno_ = syno[1].text.replace('\\n', '') if len(syno) > 1 else 'No synopsis'\n",
    "        synopsis.append(syno_)\n",
    "\n",
    "        # cast\n",
    "        act = store.find_all('a', class_ = '') \n",
    "        actors_ = []\n",
    "        for i in range (13, len(act)):\n",
    "            actors_.append(act[i].text if len(act) > 13 else 'Unknown')\n",
    "        cast.append(actors_)\n",
    "\n",
    "        # director\n",
    "        direct = store.find_all('a', class_ = '') \n",
    "        direct_ = direct[14].text if len(direct) > 14 else 'Unknown'\n",
    "        director.append(direct_)\n",
    "        \n"
   ]
  },
  {
   "cell_type": "code",
   "execution_count": null,
   "metadata": {},
   "outputs": [],
   "source": [
    "# Director \n",
    "\n",
    "print(director)"
   ]
  },
  {
   "cell_type": "code",
   "execution_count": null,
   "metadata": {},
   "outputs": [],
   "source": [
    "np.count_nonzero(director)"
   ]
  },
  {
   "cell_type": "code",
   "execution_count": null,
   "metadata": {},
   "outputs": [],
   "source": [
    "#creating a dataframe \n",
    "movies = pd.DataFrame({\"Title\": movie_name, \"Releasing year\" : year, \"Watch Time\": time,\"Rating\": rating, \"Genre\": genre, \"Votes\": votes,  \"Synopsis\": synopsis, \"Cast\": cast, \"Director\": director})"
   ]
  },
  {
   "cell_type": "code",
   "execution_count": null,
   "metadata": {},
   "outputs": [],
   "source": [
    "\n",
    "\n",
    "## If you want to save the data in csv format\n",
    "\n",
    "movies.to_csv(\"movies.csv\")\n",
    "movies.to_excel(\"movies.xlsx\")"
   ]
  }
 ],
 "metadata": {
  "interpreter": {
   "hash": "0c4c5aa5b3177196ff133f688485f12e135226921ac7590047bf527ec19eba98"
  },
  "kernelspec": {
   "display_name": "Python 3.9.2 64-bit",
   "name": "python3"
  },
  "language_info": {
   "codemirror_mode": {
    "name": "ipython",
    "version": 3
   },
   "file_extension": ".py",
   "mimetype": "text/x-python",
   "name": "python",
   "nbconvert_exporter": "python",
   "pygments_lexer": "ipython3",
   "version": "3.9.2"
  },
  "orig_nbformat": 4
 },
 "nbformat": 4,
 "nbformat_minor": 2
}
