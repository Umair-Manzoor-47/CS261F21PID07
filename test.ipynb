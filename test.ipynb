{
 "cells": [
  {
   "cell_type": "code",
   "execution_count": 1,
   "metadata": {},
   "outputs": [],
   "source": [
    "import pandas as pd\n",
    "\n",
    "df = pd.read_csv(\"1st.csv\") \n",
    "l1 = []\n",
    "l2 = []\n",
    "l3 = []\n",
    "l4 = []\n",
    "l5 = []\n",
    "l6 = []\n",
    "l7 = []\n",
    "l8 = []\n",
    "l9 = []\n",
    "for index, row in df.iterrows():\n",
    "  l1.append(row['Title'])\n",
    "  l2.append(row['Releasing year'])\n",
    "  l3.append(row['Watch Time'])\n",
    "  l4.append(row['Rating'])\n",
    "  l5.append(row['Genre']) \n",
    "  l6.append(row['Votes'])\n",
    "  l7.append(row['Synopsis'])\n",
    "  l8.append(row['Cast'])\n",
    "  l9.append(row['Director'])\n",
    "\n",
    "movies = pd.DataFrame({\"Title\": l1, \"Releasing year\" : l2, \"Watch Time\": l3,\"Rating\": l4, \"Genre\": l5, \"Votes\": l6,  \"Synopsis\": l7, \"Cast\": l8, \"Director\": l9})"
   ]
  },
  {
   "cell_type": "code",
   "execution_count": 2,
   "metadata": {},
   "outputs": [],
   "source": [
    "movies.to_csv(\"Movies.csv\", mode = 'a')"
   ]
  }
 ],
 "metadata": {
  "interpreter": {
   "hash": "0c4c5aa5b3177196ff133f688485f12e135226921ac7590047bf527ec19eba98"
  },
  "kernelspec": {
   "display_name": "Python 3.9.2 64-bit",
   "name": "python3"
  },
  "language_info": {
   "codemirror_mode": {
    "name": "ipython",
    "version": 3
   },
   "file_extension": ".py",
   "mimetype": "text/x-python",
   "name": "python",
   "nbconvert_exporter": "python",
   "pygments_lexer": "ipython3",
   "version": "3.9.2"
  },
  "orig_nbformat": 4
 },
 "nbformat": 4,
 "nbformat_minor": 2
}
