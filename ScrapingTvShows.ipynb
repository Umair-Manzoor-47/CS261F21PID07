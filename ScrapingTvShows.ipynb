{
 "cells": [
  {
   "cell_type": "code",
   "execution_count": 1,
   "metadata": {},
   "outputs": [],
   "source": [
    "#importing the libraries needed \n",
    "import pandas as pd\n",
    "import numpy as np\n",
    "import requests\n",
    "from bs4 import BeautifulSoup\n",
    "from time import sleep\n",
    "from random import randint"
   ]
  },
  {
   "cell_type": "code",
   "execution_count": 2,
   "metadata": {},
   "outputs": [],
   "source": [
    "# Declaring the headers \n",
    "headers = {\"Accept-Language\": \"en-US,en;q=0.5\"}\n",
    "\n",
    "# Declaring the list of empty variables, So that we can append the data overall\n",
    "sr = []\n",
    "movie_name = []\n",
    "year = []\n",
    "time=[]\n",
    "genre = []\n",
    "director = []\n",
    "rating=[]\n",
    "cast = []\n",
    "synopsis = []\n",
    "metascore =[]\n",
    "votes = []\n",
    "\n",
    "pages = np.arange(1,133350,50)"
   ]
  },
  {
   "cell_type": "code",
   "execution_count": 7,
   "metadata": {},
   "outputs": [],
   "source": [
    "#the whole core of the script\n",
    "for page in pages:\n",
    "    page = requests.get(\"https://www.imdb.com/search/title/?title_type=tv_movie&start=\"+str(page)+\"&view=advanced\")\n",
    "    soup = BeautifulSoup(page.text, 'html.parser')\n",
    "    movie_data = soup.findAll('div', attrs = {'class': 'lister-item-content'})\n",
    "    sleep(randint(2,8))\n",
    "    for store in movie_data:\n",
    "\n",
    "        #  serial number\n",
    "        sr.append(page)\n",
    "\n",
    "        # name\n",
    "        name = store.h3.a.text\n",
    "        movie_name.append(name)\n",
    "        \n",
    "        # releasing year\n",
    "        year_of_release = store.h3.find('span', class_ = \"lister-item-year text-muted unbold\").text.replace(\" TV Movie\", \"\").replace(\"(\", \"\").replace(\")\", \"\") if store.h3.find('span', class_ = \"lister-item-year text-muted unbold\") else \"Not defined\"\n",
    "        year.append(year_of_release)\n",
    "        \n",
    "        # runtime\n",
    "        runtime = store.p.find(\"span\", class_ = 'runtime').text if store.find('span', class_ = \"runtime\") else \"Not defined\"\n",
    "        time.append(runtime)\n",
    "        \n",
    "        # rating\n",
    "        rate = store.find('div', class_ = \"inline-block ratings-imdb-rating\").text.replace('\\n', '') if store.find('div', class_ = \"inline-block ratings-imdb-rating\") else \"Not yet rated\"\n",
    "        rating.append(rate)\n",
    "\n",
    "        # synopsis\n",
    "        syno = store.find_all('p', class_ = 'text-muted')\n",
    "        syno_ = syno[1].text.replace('\\n', '') if len(syno) > 1 else 'No synopsis'\n",
    "        synopsis.append(syno_)\n",
    "\n",
    "        # Director \n",
    "        direct = store.find_all('a', class_ = '') \n",
    "        direct_ = direct[12].text if len(direct) > 12 else 'Unknown'\n",
    "        director.append(direct_)\n",
    "\n",
    "        # cast\n",
    "        act = store.find_all('a', class_ = '') \n",
    "        actors_ = []\n",
    "        for i in range (13, len(act)):\n",
    "            actors_.append(act[i].text if len(act) > 13 else 'Unknown')\n",
    "        cast.append(actors_)\n",
    "\n",
    "        # genre\n",
    "        gen = store.p.find(\"span\", class_ = 'genre').text.replace(\"            \", \"\").replace(\"\\n\", \"\") if store.p.find('span', class_ = \"genre\") else \"Not given\"\n",
    "        genre.append(gen)\n",
    "        \n",
    "        # votes\n",
    "        value = store.find_all('span', attrs = {'name': \"nv\"})\n",
    "        vote = value[0].text if len(value) > 0 else 'Not voted'\n",
    "        votes.append(vote)\n",
    "        "
   ]
  },
  {
   "cell_type": "code",
   "execution_count": 5,
   "metadata": {},
   "outputs": [],
   "source": [
    "\n",
    "movies = pd.DataFrame({\"Title\": movie_name, \"Releasing year\" : year, \"Watch Time\": time,\"Rating\": rating, \"Genre\": genre, \"Votes\": votes,  \"Synopsis\": synopsis, \"Cast\": cast, \"Director\": director})"
   ]
  },
  {
   "cell_type": "code",
   "execution_count": 6,
   "metadata": {},
   "outputs": [],
   "source": [
    "#movies.to_excel(\"TV shows.xlsx\")\n",
    "movies.to_csv(\"TV shows.csv\", mode = \"a\")\n"
   ]
  }
 ],
 "metadata": {
  "interpreter": {
   "hash": "0c4c5aa5b3177196ff133f688485f12e135226921ac7590047bf527ec19eba98"
  },
  "kernelspec": {
   "display_name": "Python 3.9.2 64-bit",
   "name": "python3"
  },
  "language_info": {
   "codemirror_mode": {
    "name": "ipython",
    "version": 3
   },
   "file_extension": ".py",
   "mimetype": "text/x-python",
   "name": "python",
   "nbconvert_exporter": "python",
   "pygments_lexer": "ipython3",
   "version": "3.9.2"
  },
  "orig_nbformat": 4
 },
 "nbformat": 4,
 "nbformat_minor": 2
}
