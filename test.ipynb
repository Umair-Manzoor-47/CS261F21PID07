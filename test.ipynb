{
 "cells": [
  {
   "cell_type": "code",
   "execution_count": 1,
   "metadata": {},
   "outputs": [],
   "source": [
    "import pandas as pd\n",
    "df = pd.read_csv(\"Movies.csv\") \n",
    "l1 = []\n",
    "l2 = []\n",
    "l3 = []\n",
    "l4 = []\n",
    "l5 = []\n",
    "l6 = []\n",
    "l7 = []\n",
    "l8 = []\n",
    "l9 = []\n",
    "for index, row in df.iterrows():\n",
    "  l1.append(row['N'])\n",
    "  l2.append(row['Releasing year'])\n",
    "  l3.append(row['Watch Time'])\n",
    "  l4.append(row['Rating'])\n",
    "  l5.append(row['Genre']) \n",
    "  l6.append(row['Votes'])\n",
    "  l7.append(row['Synopsis'])\n",
    "  l8.append(row['Cast'])\n",
    "  l9.append(row['Director'])\n",
    "\n",
    "movies = pd.DataFrame({\"Title\": l2, \"Releasing year\" : l3, \"Watch Time\": l4,\"Rating\": l5, \"Genre\": l6, \"Votes\": l7,  \"Synopsis\": l8, \"Cast\": l9, \"Director\": l1})\n"
   ]
  },
  {
   "cell_type": "code",
   "execution_count": 3,
   "metadata": {},
   "outputs": [],
   "source": [
    "movies.to_csv(\"Movies3.0.csv\" , index = False)"
   ]
  },
  {
   "cell_type": "code",
   "execution_count": null,
   "metadata": {},
   "outputs": [],
   "source": []
  }
 ],
 "metadata": {
  "interpreter": {
   "hash": "b3ba2566441a7c06988d0923437866b63cedc61552a5af99d1f4fb67d367b25f"
  },
  "kernelspec": {
   "display_name": "Python 3.6.4 64-bit ('base': conda)",
   "name": "python3"
  },
  "language_info": {
   "codemirror_mode": {
    "name": "ipython",
    "version": 3
   },
   "file_extension": ".py",
   "mimetype": "text/x-python",
   "name": "python",
   "nbconvert_exporter": "python",
   "pygments_lexer": "ipython3",
   "version": "3.6.4"
  },
  "orig_nbformat": 4
 },
 "nbformat": 4,
 "nbformat_minor": 2
}
